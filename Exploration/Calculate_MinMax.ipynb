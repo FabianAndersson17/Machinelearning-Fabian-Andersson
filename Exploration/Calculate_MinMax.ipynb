{
 "cells": [
  {
   "cell_type": "markdown",
   "metadata": {},
   "source": [
    "# MinMaxScaler calculations"
   ]
  },
  {
   "cell_type": "markdown",
   "metadata": {},
   "source": [
    "- By hand: X_train\n",
    "    - [[1 1]\n",
    "    -  [2 4]\n",
    "    -  [-2 2]] \n",
    "- Answer: X_train\n",
    "    - [[0.75 0]\n",
    "    - [1 1]\n",
    "    - [0 0.33]]\n",
    "\n",
    "- By hand: X_test\n",
    "    - [[1 2]\n",
    "    - [2 2]]\n",
    "- Answer: X_test: \n",
    "    - [[0.75 0.33]\n",
    "    - [1 0.33]]"
   ]
  },
  {
   "cell_type": "code",
   "execution_count": 1,
   "metadata": {},
   "outputs": [],
   "source": [
    "from sklearn.preprocessing import MinMaxScaler\n",
    "import numpy as np"
   ]
  },
  {
   "cell_type": "code",
   "execution_count": 2,
   "metadata": {},
   "outputs": [
    {
     "name": "stdout",
     "output_type": "stream",
     "text": [
      "[[0.75       0.        ]\n",
      " [1.         1.        ]\n",
      " [0.         0.33333333]]\n",
      "[[0.75       0.33333333]\n",
      " [1.         0.33333333]]\n"
     ]
    },
    {
     "name": "stderr",
     "output_type": "stream",
     "text": [
      "C:\\Users\\FabianAndersson-AIU2\\.virtualenvs\\Machinelearning-Fabian-Andersson-w7oPBvBJ\\lib\\site-packages\\sklearn\\utils\\validation.py:593: FutureWarning: np.matrix usage is deprecated in 1.0 and will raise a TypeError in 1.2. Please convert to a numpy array with np.asarray. For more information see: https://numpy.org/doc/stable/reference/generated/numpy.matrix.html\n",
      "  warnings.warn(\n",
      "C:\\Users\\FabianAndersson-AIU2\\.virtualenvs\\Machinelearning-Fabian-Andersson-w7oPBvBJ\\lib\\site-packages\\sklearn\\utils\\validation.py:593: FutureWarning: np.matrix usage is deprecated in 1.0 and will raise a TypeError in 1.2. Please convert to a numpy array with np.asarray. For more information see: https://numpy.org/doc/stable/reference/generated/numpy.matrix.html\n",
      "  warnings.warn(\n",
      "C:\\Users\\FabianAndersson-AIU2\\.virtualenvs\\Machinelearning-Fabian-Andersson-w7oPBvBJ\\lib\\site-packages\\sklearn\\utils\\validation.py:593: FutureWarning: np.matrix usage is deprecated in 1.0 and will raise a TypeError in 1.2. Please convert to a numpy array with np.asarray. For more information see: https://numpy.org/doc/stable/reference/generated/numpy.matrix.html\n",
      "  warnings.warn(\n"
     ]
    }
   ],
   "source": [
    "array_train = np.array([1,1,2,4,-2,2])\n",
    "matrix_train = np.matrix(array_train).reshape([3,2])\n",
    "scaler = MinMaxScaler()\n",
    "scaled_matrix_train = scaler.fit_transform(matrix_train)\n",
    "print(scaled_matrix_train)\n",
    "\n",
    "array_test = np.array([1,2,2,2])\n",
    "matrix_test = np.matrix(array_test).reshape(2,2)\n",
    "scaled_matrix_test = scaler.transform(matrix_test)\n",
    "print(scaled_matrix_test)"
   ]
  },
  {
   "cell_type": "code",
   "execution_count": 11,
   "metadata": {},
   "outputs": [
    {
     "name": "stdout",
     "output_type": "stream",
     "text": [
      "[[1 8]\n",
      " [7 2]\n",
      " [3 4]]\n",
      "[[0.         1.        ]\n",
      " [1.         0.        ]\n",
      " [0.33333333 0.33333333]]\n",
      "[[5 9]\n",
      " [6 2]]\n",
      "[[0.66666667 1.16666667]\n",
      " [0.83333333 0.        ]]\n"
     ]
    }
   ],
   "source": [
    "array_train = np.asarray([1, 8, 7, 2, 3, 4]).reshape([3,2])\n",
    "print(array_train)\n",
    "scaler = MinMaxScaler()\n",
    "scaled_matrix_train = scaler.fit_transform(array_train)\n",
    "print(scaled_matrix_train)\n",
    "\n",
    "array_test = np.asarray([5,9,6,2]).reshape([2,2])\n",
    "print(array_test)\n",
    "scaled_matrix_test = scaler.transform(array_test)\n",
    "print(scaled_matrix_test)"
   ]
  }
 ],
 "metadata": {
  "interpreter": {
   "hash": "74522788009941975a4274ce688126e1a7bad11a56dd47c92f86889bb9d598be"
  },
  "kernelspec": {
   "display_name": "Python 3.9.6 ('Machinelearning-Fabian-Andersson-w7oPBvBJ')",
   "language": "python",
   "name": "python3"
  },
  "language_info": {
   "codemirror_mode": {
    "name": "ipython",
    "version": 3
   },
   "file_extension": ".py",
   "mimetype": "text/x-python",
   "name": "python",
   "nbconvert_exporter": "python",
   "pygments_lexer": "ipython3",
   "version": "3.9.6"
  },
  "orig_nbformat": 4
 },
 "nbformat": 4,
 "nbformat_minor": 2
}
