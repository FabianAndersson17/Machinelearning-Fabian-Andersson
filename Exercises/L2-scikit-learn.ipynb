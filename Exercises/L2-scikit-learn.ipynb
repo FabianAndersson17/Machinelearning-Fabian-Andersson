{
 "cells": [
  {
   "cell_type": "markdown",
   "metadata": {},
   "source": [
    "# Scikit learn"
   ]
  },
  {
   "cell_type": "code",
   "execution_count": 23,
   "metadata": {},
   "outputs": [
    {
     "name": "stdout",
     "output_type": "stream",
     "text": [
      "Number of features 3\n",
      "Number of samples 200\n"
     ]
    }
   ],
   "source": [
    "import pandas as pd\n",
    "import seaborn as sns\n",
    "import matplotlib.pyplot as plt\n",
    "import numpy as np\n",
    "\n",
    "\n",
    "df = pd.read_csv(\"../Data/advertising.csv\", index_col=0)\n",
    "print(f\"Number of features {df.shape[1]-1}\")\n",
    "print(f\"Number of samples {df.shape[0]}\")"
   ]
  },
  {
   "cell_type": "code",
   "execution_count": 24,
   "metadata": {},
   "outputs": [
    {
     "data": {
      "text/plain": [
       "((200, 3), (200,))"
      ]
     },
     "execution_count": 24,
     "metadata": {},
     "output_type": "execute_result"
    }
   ],
   "source": [
    "X, y = df.drop(\"sales\", axis = 1), df[\"sales\"]\n",
    "X.shape, y.shape"
   ]
  },
  {
   "cell_type": "markdown",
   "metadata": {},
   "source": [
    "## Scikit-learn \"recipe\"\n",
    "\n",
    "**Steps**\n",
    "\n",
    "1. train|test split or train|validation|test split\n",
    "2. Scale dataset\n",
    "- Many algorithms require scaling, some don't\n",
    "- which type of scaling method to use?\n",
    "- Scale training data, scale test data using training data\n",
    "3. Fit algotihm to training data\n",
    "4. Predict on test data\n",
    "5. Evaluation metrics on test data"
   ]
  },
  {
   "cell_type": "code",
   "execution_count": 25,
   "metadata": {},
   "outputs": [
    {
     "data": {
      "text/plain": [
       "((134, 3), (66, 3), (134,), (66,))"
      ]
     },
     "execution_count": 25,
     "metadata": {},
     "output_type": "execute_result"
    }
   ],
   "source": [
    "from sklearn.model_selection import train_test_split\n",
    "\n",
    "X_train, X_test, y_train, y_test = train_test_split(X, y, test_size=0.33, random_state=42)\n",
    "X_train.shape, X_test.shape, y_train.shape, y_test.shape"
   ]
  },
  {
   "cell_type": "markdown",
   "metadata": {},
   "source": [
    "### Feature scaling\n",
    "\n",
    "Normalization (MinMaxScaling)\n",
    "\n",
    "$$X' = \\frac{X-X_{min}}{X_{max}-X_{min}}$$\n",
    "\n",
    "Compute min and max from training data and use on training and test data"
   ]
  },
  {
   "cell_type": "code",
   "execution_count": 26,
   "metadata": {},
   "outputs": [
    {
     "name": "stdout",
     "output_type": "stream",
     "text": [
      "<class 'sklearn.preprocessing._data.MinMaxScaler'>\n",
      "Min value in X_trian: 0.0\n",
      "Max value in X_train: 1.0\n",
      "Min value in X_test: 0.005964214711729622\n",
      "Max value in X_test: 1.1302186878727631\n"
     ]
    }
   ],
   "source": [
    "from sklearn.preprocessing import MinMaxScaler\n",
    "\n",
    "# instantiate an objet from the class MinMaxScaler()\n",
    "scaler = MinMaxScaler()\n",
    "print(type(scaler))\n",
    "\n",
    "# Do scaler.fit on X_train - NOT on x_test\n",
    "scaler.fit(X_train)\n",
    "\n",
    "scaled_X_train = scaler.transform(X_train)\n",
    "scaled_X_test = scaler.transform(X_test)\n",
    "\n",
    "print(f\"Min value in X_trian: {scaled_X_train.min()}\")\n",
    "print(f\"Max value in X_train: {scaled_X_train.max()}\")\n",
    "\n",
    "print(f\"Min value in X_test: {scaled_X_test.min()}\")\n",
    "print(f\"Max value in X_test: {scaled_X_test.max()}\")\n",
    "\n",
    "    "
   ]
  },
  {
   "cell_type": "markdown",
   "metadata": {},
   "source": [
    "## Algotithm - linear regression"
   ]
  },
  {
   "cell_type": "code",
   "execution_count": 27,
   "metadata": {},
   "outputs": [
    {
     "name": "stdout",
     "output_type": "stream",
     "text": [
      "Weights (beta_hats) [13.20747617  9.75285112  0.61108329]\n",
      "Intercept 2.7911595196243653\n"
     ]
    }
   ],
   "source": [
    "from sklearn.linear_model import LinearRegression\n",
    "\n",
    "# SVD - singular Value Decomposition that is used for calculating pseudoinverse in OLS normal equation\n",
    "\n",
    "# instatiate an object \n",
    "model_SVD = LinearRegression()\n",
    "model_SVD.fit(scaled_X_train, y_train)\n",
    "\n",
    "# weights\n",
    "print(f\"Weights (beta_hats) {model_SVD.coef_}\")\n",
    "print(f\"Intercept {model_SVD.intercept_}\")"
   ]
  },
  {
   "cell_type": "markdown",
   "metadata": {},
   "source": [
    "## Stochastic gradient descent (SGD)"
   ]
  },
  {
   "cell_type": "code",
   "execution_count": 55,
   "metadata": {},
   "outputs": [
    {
     "name": "stdout",
     "output_type": "stream",
     "text": [
      "Weights (beta_hats) [12.02530224  8.94615174  1.34870211]\n",
      "Intercepts [3.62816]\n"
     ]
    }
   ],
   "source": [
    "from sklearn.linear_model import SGDRegressor\n",
    "\n",
    "# Note that SGD requires features to be scaled\n",
    "model_SGD = SGDRegressor(loss = \"squared_error\", learning_rate=\"invscaling\", max_iter=100000)\n",
    "model_SGD.fit(scaled_X_train, y_train)\n",
    "\n",
    "print(f\"Weights (beta_hats) {model_SGD.coef_}\")\n",
    "print(f\"Intercepts {model_SGD.intercept_}\")"
   ]
  },
  {
   "cell_type": "markdown",
   "metadata": {},
   "source": [
    "## Manual test"
   ]
  },
  {
   "cell_type": "code",
   "execution_count": 54,
   "metadata": {},
   "outputs": [
    {
     "data": {
      "text/plain": [
       "array([0.54988164, 0.63709677, 0.52286282])"
      ]
     },
     "execution_count": 54,
     "metadata": {},
     "output_type": "execute_result"
    }
   ],
   "source": [
    "# Sanity check\n",
    "test_sample_features = scaled_X_test[0]\n",
    "test_sample_target = y_test.values[0]\n",
    "\n"
   ]
  },
  {
   "cell_type": "code",
   "execution_count": 57,
   "metadata": {},
   "outputs": [
    {
     "data": {
      "text/plain": [
       "TV           163.3\n",
       "radio         31.6\n",
       "newspaper     52.9\n",
       "Name: 96, dtype: float64"
      ]
     },
     "execution_count": 57,
     "metadata": {},
     "output_type": "execute_result"
    }
   ],
   "source": [
    "X_test.iloc[0]"
   ]
  }
 ],
 "metadata": {
  "interpreter": {
   "hash": "74522788009941975a4274ce688126e1a7bad11a56dd47c92f86889bb9d598be"
  },
  "kernelspec": {
   "display_name": "Python 3.9.6 ('Machinelearning-Fabian-Andersson-w7oPBvBJ')",
   "language": "python",
   "name": "python3"
  },
  "language_info": {
   "codemirror_mode": {
    "name": "ipython",
    "version": 3
   },
   "file_extension": ".py",
   "mimetype": "text/x-python",
   "name": "python",
   "nbconvert_exporter": "python",
   "pygments_lexer": "ipython3",
   "version": "3.9.6"
  },
  "orig_nbformat": 4
 },
 "nbformat": 4,
 "nbformat_minor": 2
}
