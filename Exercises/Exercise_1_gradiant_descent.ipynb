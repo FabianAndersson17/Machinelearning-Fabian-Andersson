{
 "cells": [
  {
   "cell_type": "markdown",
   "metadata": {},
   "source": [
    "# Exercises for gradiant descent"
   ]
  },
  {
   "cell_type": "code",
   "execution_count": 1,
   "metadata": {},
   "outputs": [],
   "source": [
    "import numpy as np\n",
    "import seaborn as sns\n",
    "import pandas as pd\n",
    "import matplotlib as plt"
   ]
  },
  {
   "cell_type": "code",
   "execution_count": 105,
   "metadata": {},
   "outputs": [
    {
     "data": {
      "text/plain": [
       "array([[1.        , 0.37454012, 0.95071431],\n",
       "       [1.        , 0.73199394, 0.59865848],\n",
       "       [1.        , 0.15601864, 0.15599452],\n",
       "       ...,\n",
       "       [1.        , 0.75137509, 0.65695516],\n",
       "       [1.        , 0.95661462, 0.06895802],\n",
       "       [1.        , 0.05705472, 0.28218707]])"
      ]
     },
     "execution_count": 105,
     "metadata": {},
     "output_type": "execute_result"
    }
   ],
   "source": [
    "np.random.seed(42)\n",
    "array_index = 0\n",
    "x = np.random.rand(1000, 2)\n",
    "intercept = np.ones(1000)\n",
    "\n",
    "epsilon = np.random.randn(1000)\n",
    "\n",
    "for i in x:\n",
    "    y = 3*x[array_index][0] + 5*x[array_index][1] + 3 + epsilon\n",
    "    array_index +=1 \n",
    "\n",
    "array_index = 0 ## Resets var array_index to Zero\n",
    "\n",
    "np.c_[intercept, x]"
   ]
  }
 ],
 "metadata": {
  "interpreter": {
   "hash": "74522788009941975a4274ce688126e1a7bad11a56dd47c92f86889bb9d598be"
  },
  "kernelspec": {
   "display_name": "Python 3.9.6 ('Machinelearning-Fabian-Andersson-w7oPBvBJ')",
   "language": "python",
   "name": "python3"
  },
  "language_info": {
   "codemirror_mode": {
    "name": "ipython",
    "version": 3
   },
   "file_extension": ".py",
   "mimetype": "text/x-python",
   "name": "python",
   "nbconvert_exporter": "python",
   "pygments_lexer": "ipython3",
   "version": "3.9.6"
  },
  "orig_nbformat": 4
 },
 "nbformat": 4,
 "nbformat_minor": 2
}
