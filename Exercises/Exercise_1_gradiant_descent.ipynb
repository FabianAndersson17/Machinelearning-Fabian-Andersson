{
 "cells": [
  {
   "cell_type": "markdown",
   "metadata": {},
   "source": [
    "# Exercises for gradiant descent"
   ]
  },
  {
   "cell_type": "code",
   "execution_count": 1,
   "metadata": {},
   "outputs": [],
   "source": [
    "import numpy as np\n",
    "import seaborn as sns\n",
    "import pandas as pd\n",
    "import matplotlib as plt"
   ]
  },
  {
   "cell_type": "code",
   "execution_count": 14,
   "metadata": {},
   "outputs": [
    {
     "name": "stdout",
     "output_type": "stream",
     "text": [
      "[[1.         0.37454012 0.95071431]\n",
      " [1.         0.73199394 0.59865848]\n",
      " [1.         0.15601864 0.15599452]\n",
      " ...\n",
      " [1.         0.75137509 0.65695516]\n",
      " [1.         0.95661462 0.06895802]\n",
      " [1.         0.05705472 0.28218707]]\n"
     ]
    }
   ],
   "source": [
    "np.random.seed(42)\n",
    "array_index = 0\n",
    "samples = 1000\n",
    "X = np.random.rand(samples, 2)\n",
    "intercept = np.ones(samples)\n",
    "\n",
    "epsilon = np.random.randn(samples)\n",
    "\n",
    "for i in x:\n",
    "    y = 3*x[array_index][0] + 5*x[array_index][1] + 3 + epsilon\n",
    "    array_index +=1 \n",
    "\n",
    "y = y.reshape(-1,1)\n",
    "x = np.c_[intercept, X]\n",
    "\n",
    "print(x)"
   ]
  },
  {
   "cell_type": "code",
   "execution_count": 15,
   "metadata": {},
   "outputs": [],
   "source": [
    "from sklearn.model_selection import train_test_split\n",
    "X_train, X_test, y_train, y_test = train_test_split(X, y, test_size=0.33, random_state=42)"
   ]
  },
  {
   "cell_type": "code",
   "execution_count": 10,
   "metadata": {},
   "outputs": [
    {
     "name": "stdout",
     "output_type": "stream",
     "text": [
      "(3, 1)\n",
      "3\n",
      "[[ 4.6912974 ]\n",
      " [-0.03691741]\n",
      " [-0.15449943]]\n"
     ]
    }
   ],
   "source": [
    "def gradient_desecent(X, y, learning_rate=0.1, epochs=500):\n",
    "    m = len(X)\n",
    "\n",
    "    theta = np.random.randn(X.shape[1], 1)\n",
    "    print(theta.shape)\n",
    "\n",
    "    for _ in range(epochs):\n",
    "        gradient = 2 / m * X.T @ (X @ theta - y)\n",
    "        theta -= learning_rate*gradient\n",
    "    \n",
    "    return theta\n",
    "\n",
    "theta = gradient_desecent(x, y)\n",
    "print(len(theta))\n",
    "print(theta)"
   ]
  }
 ],
 "metadata": {
  "interpreter": {
   "hash": "74522788009941975a4274ce688126e1a7bad11a56dd47c92f86889bb9d598be"
  },
  "kernelspec": {
   "display_name": "Python 3.9.6 ('Machinelearning-Fabian-Andersson-w7oPBvBJ')",
   "language": "python",
   "name": "python3"
  },
  "language_info": {
   "codemirror_mode": {
    "name": "ipython",
    "version": 3
   },
   "file_extension": ".py",
   "mimetype": "text/x-python",
   "name": "python",
   "nbconvert_exporter": "python",
   "pygments_lexer": "ipython3",
   "version": "3.9.6"
  },
  "orig_nbformat": 4
 },
 "nbformat": 4,
 "nbformat_minor": 2
}
