{
 "cells": [
  {
   "cell_type": "markdown",
   "metadata": {},
   "source": [
    "# Exercise 0 Linear regression"
   ]
  },
  {
   "cell_type": "markdown",
   "metadata": {},
   "source": [
    "## 0. Simulate phone dataset"
   ]
  },
  {
   "cell_type": "code",
   "execution_count": 2,
   "metadata": {},
   "outputs": [],
   "source": [
    "import matplotlib.pyplot as plt\n",
    "import seaborn as sns\n",
    "import numpy as np\n",
    "import pandas as pd"
   ]
  },
  {
   "cell_type": "code",
   "execution_count": 11,
   "metadata": {},
   "outputs": [
    {
     "ename": "AttributeError",
     "evalue": "'DataFrame' object has no attribute 'column'",
     "output_type": "error",
     "traceback": [
      "\u001b[1;31m---------------------------------------------------------------------------\u001b[0m",
      "\u001b[1;31mAttributeError\u001b[0m                            Traceback (most recent call last)",
      "\u001b[1;32mc:\\Users\\FabianAndersson-AIU2\\Documents\\GitHub\\Machinelearning-Fabian-Andersson\\Exercises\\Exercise_0_Linear_regression.ipynb Cell 4'\u001b[0m in \u001b[0;36m<module>\u001b[1;34m\u001b[0m\n\u001b[0;32m     <a href='vscode-notebook-cell:/c%3A/Users/FabianAndersson-AIU2/Documents/GitHub/Machinelearning-Fabian-Andersson/Exercises/Exercise_0_Linear_regression.ipynb#ch0000003?line=9'>10</a>\u001b[0m clean_phone_data \u001b[39m=\u001b[39m pd\u001b[39m.\u001b[39mDataFrame([x_data, y_data])\u001b[39m.\u001b[39mT\n\u001b[0;32m     <a href='vscode-notebook-cell:/c%3A/Users/FabianAndersson-AIU2/Documents/GitHub/Machinelearning-Fabian-Andersson/Exercises/Exercise_0_Linear_regression.ipynb#ch0000003?line=10'>11</a>\u001b[0m \u001b[39m# clean_phone_data = clean_phone_data.rename({\"0\": \"clean_X_data\", \"1\": \"clean_Y_data\"}, axis= \"columns\")\u001b[39;00m\n\u001b[1;32m---> <a href='vscode-notebook-cell:/c%3A/Users/FabianAndersson-AIU2/Documents/GitHub/Machinelearning-Fabian-Andersson/Exercises/Exercise_0_Linear_regression.ipynb#ch0000003?line=12'>13</a>\u001b[0m clean_phone_data\u001b[39m.\u001b[39;49mcolumn()\n",
      "File \u001b[1;32m~\\.virtualenvs\\Machinelearning-Fabian-Andersson-w7oPBvBJ\\lib\\site-packages\\pandas\\core\\generic.py:5583\u001b[0m, in \u001b[0;36mNDFrame.__getattr__\u001b[1;34m(self, name)\u001b[0m\n\u001b[0;32m   <a href='file:///~/.virtualenvs/Machinelearning-Fabian-Andersson-w7oPBvBJ/lib/site-packages/pandas/core/generic.py?line=5575'>5576</a>\u001b[0m \u001b[39mif\u001b[39;00m (\n\u001b[0;32m   <a href='file:///~/.virtualenvs/Machinelearning-Fabian-Andersson-w7oPBvBJ/lib/site-packages/pandas/core/generic.py?line=5576'>5577</a>\u001b[0m     name \u001b[39mnot\u001b[39;00m \u001b[39min\u001b[39;00m \u001b[39mself\u001b[39m\u001b[39m.\u001b[39m_internal_names_set\n\u001b[0;32m   <a href='file:///~/.virtualenvs/Machinelearning-Fabian-Andersson-w7oPBvBJ/lib/site-packages/pandas/core/generic.py?line=5577'>5578</a>\u001b[0m     \u001b[39mand\u001b[39;00m name \u001b[39mnot\u001b[39;00m \u001b[39min\u001b[39;00m \u001b[39mself\u001b[39m\u001b[39m.\u001b[39m_metadata\n\u001b[0;32m   <a href='file:///~/.virtualenvs/Machinelearning-Fabian-Andersson-w7oPBvBJ/lib/site-packages/pandas/core/generic.py?line=5578'>5579</a>\u001b[0m     \u001b[39mand\u001b[39;00m name \u001b[39mnot\u001b[39;00m \u001b[39min\u001b[39;00m \u001b[39mself\u001b[39m\u001b[39m.\u001b[39m_accessors\n\u001b[0;32m   <a href='file:///~/.virtualenvs/Machinelearning-Fabian-Andersson-w7oPBvBJ/lib/site-packages/pandas/core/generic.py?line=5579'>5580</a>\u001b[0m     \u001b[39mand\u001b[39;00m \u001b[39mself\u001b[39m\u001b[39m.\u001b[39m_info_axis\u001b[39m.\u001b[39m_can_hold_identifiers_and_holds_name(name)\n\u001b[0;32m   <a href='file:///~/.virtualenvs/Machinelearning-Fabian-Andersson-w7oPBvBJ/lib/site-packages/pandas/core/generic.py?line=5580'>5581</a>\u001b[0m ):\n\u001b[0;32m   <a href='file:///~/.virtualenvs/Machinelearning-Fabian-Andersson-w7oPBvBJ/lib/site-packages/pandas/core/generic.py?line=5581'>5582</a>\u001b[0m     \u001b[39mreturn\u001b[39;00m \u001b[39mself\u001b[39m[name]\n\u001b[1;32m-> <a href='file:///~/.virtualenvs/Machinelearning-Fabian-Andersson-w7oPBvBJ/lib/site-packages/pandas/core/generic.py?line=5582'>5583</a>\u001b[0m \u001b[39mreturn\u001b[39;00m \u001b[39mobject\u001b[39;49m\u001b[39m.\u001b[39;49m\u001b[39m__getattribute__\u001b[39;49m(\u001b[39mself\u001b[39;49m, name)\n",
      "\u001b[1;31mAttributeError\u001b[0m: 'DataFrame' object has no attribute 'column'"
     ]
    }
   ],
   "source": [
    "np.random.seed(42)\n",
    "\n",
    "x_data = (np.random.normal(loc=100, scale=100, size=(400)))\n",
    "error_data = (np.random.normal(loc=0, scale=50, size=(400)))\n",
    "    \n",
    "x_data = np.absolute(x_data)\n",
    "\n",
    "y_data = 2 * x_data + 25 + error_data\n",
    "\n",
    "clean_phone_data = pd.DataFrame([x_data, y_data]).T\n",
    "clean_phone_data = clean_phone_data.rename({\"0\": \"clean_X_data\", \"1\": \"clean_Y_data\"}, axis= \"columns\")\n",
    "\n",
    "# fig, ax = plt.subplots(1, 2, figsize=(10, 3), dpi=100)\n",
    "# sns.scatterplot(x=x_data, y=y_data, ax = ax[0])\n",
    "# sns.scatterplot(x=new_x_data, y=new_y_data, ax=ax[1])"
   ]
  }
 ],
 "metadata": {
  "interpreter": {
   "hash": "74522788009941975a4274ce688126e1a7bad11a56dd47c92f86889bb9d598be"
  },
  "kernelspec": {
   "display_name": "Python 3.9.6 64-bit ('Machinelearning-Fabian-Andersson-w7oPBvBJ': pipenv)",
   "language": "python",
   "name": "python3"
  },
  "language_info": {
   "codemirror_mode": {
    "name": "ipython",
    "version": 3
   },
   "file_extension": ".py",
   "mimetype": "text/x-python",
   "name": "python",
   "nbconvert_exporter": "python",
   "pygments_lexer": "ipython3",
   "version": "3.9.6"
  },
  "orig_nbformat": 4
 },
 "nbformat": 4,
 "nbformat_minor": 2
}
