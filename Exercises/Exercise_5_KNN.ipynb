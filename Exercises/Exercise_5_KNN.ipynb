{
 "cells": [
  {
   "cell_type": "markdown",
   "metadata": {},
   "source": [
    "# Exercise 5 KNN"
   ]
  },
  {
   "cell_type": "code",
   "execution_count": 40,
   "metadata": {},
   "outputs": [
    {
     "data": {
      "text/plain": [
       "((60000, 28, 28), (60000,), (10000, 28, 28), (10000,))"
      ]
     },
     "execution_count": 40,
     "metadata": {},
     "output_type": "execute_result"
    }
   ],
   "source": [
    "import pandas as pd\n",
    "import numpy as np\n",
    "import matplotlib.pyplot as plt\n",
    "import seaborn as sns\n",
    "\n",
    "from tensorflow.keras.datasets import mnist\n",
    "\n",
    "(X_train, Y_train), (X_test, Y_test) = mnist.load_data()\n",
    "\n",
    "X_train.shape, Y_train.shape, X_test.shape, Y_test.shape"
   ]
  },
  {
   "cell_type": "code",
   "execution_count": 41,
   "metadata": {},
   "outputs": [
    {
     "name": "stdout",
     "output_type": "stream",
     "text": [
      "(60000, 28, 28), There are 60000 images. With the shape 28x28\n"
     ]
    }
   ],
   "source": [
    "print(f\"{X_train.shape}, There are 60000 images. With the shape 28x28\")"
   ]
  },
  {
   "cell_type": "code",
   "execution_count": 42,
   "metadata": {},
   "outputs": [
    {
     "name": "stdout",
     "output_type": "stream",
     "text": [
      "(0, 255) is the color strenght\n"
     ]
    },
    {
     "data": {
      "image/png": "[encoded data removed]",
      "text/plain": [
       "<Figure size 1440x360 with 20 Axes>"
      ]
     },
     "metadata": {
      "needs_background": "light"
     },
     "output_type": "display_data"
    }
   ],
   "source": [
    "print(f\"{X_train.min(), X_train.max()} is the color strenght\")\n",
    "\n",
    "fig, ax = plt.subplots(2, 10, figsize=(20,5))\n",
    "\n",
    "for axes in ax.flatten():\n",
    "    axes.imshow(X_train[np.random.randint(0, (len(X_train) - 1))], cmap=\"gray\")"
   ]
  },
  {
   "cell_type": "code",
   "execution_count": 55,
   "metadata": {},
   "outputs": [
    {
     "data": {
      "text/plain": [
       "((60000, 784), (10000, 784))"
      ]
     },
     "execution_count": 55,
     "metadata": {},
     "output_type": "execute_result"
    }
   ],
   "source": [
    "X_train_2 = X_train.reshape(len(X_train), 28*28)\n",
    "X_test_2 = X_test.reshape(len(X_test), 28*28)\n",
    "X_train_2.shape, X_test_2.shape"
   ]
  },
  {
   "cell_type": "markdown",
   "metadata": {},
   "source": [
    "## Train | Test | Validation split"
   ]
  },
  {
   "cell_type": "code",
   "execution_count": 62,
   "metadata": {},
   "outputs": [
    {
     "data": {
      "text/plain": [
       "((9600, 784), (9600,))"
      ]
     },
     "execution_count": 62,
     "metadata": {},
     "output_type": "execute_result"
    }
   ],
   "source": [
    "from sklearn.model_selection import train_test_split\n",
    "\n",
    "X_train, X_validation, y_train, y_validation = train_test_split(X_train_2, Y_train, test_size=0.16, random_state=42)\n",
    "\n",
    "X_validation.shape, y_validation.shape"
   ]
  },
  {
   "cell_type": "markdown",
   "metadata": {},
   "source": [
    "## Hyperparameter tuning"
   ]
  },
  {
   "cell_type": "code",
   "execution_count": 64,
   "metadata": {},
   "outputs": [
    {
     "ename": "ValueError",
     "evalue": "Found input variables with inconsistent numbers of samples: [60000, 50400]",
     "output_type": "error",
     "traceback": [
      "\u001b[1;31m---------------------------------------------------------------------------\u001b[0m",
      "\u001b[1;31mValueError\u001b[0m                                Traceback (most recent call last)",
      "\u001b[1;32mc:\\Users\\FabianAndersson-AIU2\\Documents\\GitHub\\Machinelearning-Fabian-Andersson\\Exercises\\Exercise_5_KNN.ipynb Cell 9'\u001b[0m in \u001b[0;36m<module>\u001b[1;34m\u001b[0m\n\u001b[0;32m      <a href='vscode-notebook-cell:/c%3A/Users/FabianAndersson-AIU2/Documents/GitHub/Machinelearning-Fabian-Andersson/Exercises/Exercise_5_KNN.ipynb#ch0000008?line=5'>6</a>\u001b[0m \u001b[39mfor\u001b[39;00m k \u001b[39min\u001b[39;00m \u001b[39mrange\u001b[39m(\u001b[39m1\u001b[39m, \u001b[39m10\u001b[39m):\n\u001b[0;32m      <a href='vscode-notebook-cell:/c%3A/Users/FabianAndersson-AIU2/Documents/GitHub/Machinelearning-Fabian-Andersson/Exercises/Exercise_5_KNN.ipynb#ch0000008?line=6'>7</a>\u001b[0m     model_KNN \u001b[39m=\u001b[39m KNeighborsClassifier(n_neighbors\u001b[39m=\u001b[39mk)\n\u001b[1;32m----> <a href='vscode-notebook-cell:/c%3A/Users/FabianAndersson-AIU2/Documents/GitHub/Machinelearning-Fabian-Andersson/Exercises/Exercise_5_KNN.ipynb#ch0000008?line=7'>8</a>\u001b[0m     model_KNN\u001b[39m.\u001b[39;49mfit(X_train_2, y_train)\n\u001b[0;32m      <a href='vscode-notebook-cell:/c%3A/Users/FabianAndersson-AIU2/Documents/GitHub/Machinelearning-Fabian-Andersson/Exercises/Exercise_5_KNN.ipynb#ch0000008?line=8'>9</a>\u001b[0m     y_pred \u001b[39m=\u001b[39m model_KNN\u001b[39m.\u001b[39mpredict(X_train_2)\n\u001b[0;32m     <a href='vscode-notebook-cell:/c%3A/Users/FabianAndersson-AIU2/Documents/GitHub/Machinelearning-Fabian-Andersson/Exercises/Exercise_5_KNN.ipynb#ch0000008?line=9'>10</a>\u001b[0m     accuracy \u001b[39m=\u001b[39m accuracy_score(y_pred, y_test)\n",
      "File \u001b[1;32m~\\.virtualenvs\\Machinelearning-Fabian-Andersson-w7oPBvBJ\\lib\\site-packages\\sklearn\\neighbors\\_classification.py:198\u001b[0m, in \u001b[0;36mKNeighborsClassifier.fit\u001b[1;34m(self, X, y)\u001b[0m\n\u001b[0;32m    <a href='file:///~/.virtualenvs/Machinelearning-Fabian-Andersson-w7oPBvBJ/lib/site-packages/sklearn/neighbors/_classification.py?line=178'>179</a>\u001b[0m \u001b[39m\"\"\"Fit the k-nearest neighbors classifier from the training dataset.\u001b[39;00m\n\u001b[0;32m    <a href='file:///~/.virtualenvs/Machinelearning-Fabian-Andersson-w7oPBvBJ/lib/site-packages/sklearn/neighbors/_classification.py?line=179'>180</a>\u001b[0m \n\u001b[0;32m    <a href='file:///~/.virtualenvs/Machinelearning-Fabian-Andersson-w7oPBvBJ/lib/site-packages/sklearn/neighbors/_classification.py?line=180'>181</a>\u001b[0m \u001b[39mParameters\u001b[39;00m\n\u001b[1;32m   (...)\u001b[0m\n\u001b[0;32m    <a href='file:///~/.virtualenvs/Machinelearning-Fabian-Andersson-w7oPBvBJ/lib/site-packages/sklearn/neighbors/_classification.py?line=193'>194</a>\u001b[0m \u001b[39m    The fitted k-nearest neighbors classifier.\u001b[39;00m\n\u001b[0;32m    <a href='file:///~/.virtualenvs/Machinelearning-Fabian-Andersson-w7oPBvBJ/lib/site-packages/sklearn/neighbors/_classification.py?line=194'>195</a>\u001b[0m \u001b[39m\"\"\"\u001b[39;00m\n\u001b[0;32m    <a href='file:///~/.virtualenvs/Machinelearning-Fabian-Andersson-w7oPBvBJ/lib/site-packages/sklearn/neighbors/_classification.py?line=195'>196</a>\u001b[0m \u001b[39mself\u001b[39m\u001b[39m.\u001b[39mweights \u001b[39m=\u001b[39m _check_weights(\u001b[39mself\u001b[39m\u001b[39m.\u001b[39mweights)\n\u001b[1;32m--> <a href='file:///~/.virtualenvs/Machinelearning-Fabian-Andersson-w7oPBvBJ/lib/site-packages/sklearn/neighbors/_classification.py?line=197'>198</a>\u001b[0m \u001b[39mreturn\u001b[39;00m \u001b[39mself\u001b[39;49m\u001b[39m.\u001b[39;49m_fit(X, y)\n",
      "File \u001b[1;32m~\\.virtualenvs\\Machinelearning-Fabian-Andersson-w7oPBvBJ\\lib\\site-packages\\sklearn\\neighbors\\_base.py:400\u001b[0m, in \u001b[0;36mNeighborsBase._fit\u001b[1;34m(self, X, y)\u001b[0m\n\u001b[0;32m    <a href='file:///~/.virtualenvs/Machinelearning-Fabian-Andersson-w7oPBvBJ/lib/site-packages/sklearn/neighbors/_base.py?line=397'>398</a>\u001b[0m \u001b[39mif\u001b[39;00m \u001b[39mself\u001b[39m\u001b[39m.\u001b[39m_get_tags()[\u001b[39m\"\u001b[39m\u001b[39mrequires_y\u001b[39m\u001b[39m\"\u001b[39m]:\n\u001b[0;32m    <a href='file:///~/.virtualenvs/Machinelearning-Fabian-Andersson-w7oPBvBJ/lib/site-packages/sklearn/neighbors/_base.py?line=398'>399</a>\u001b[0m     \u001b[39mif\u001b[39;00m \u001b[39mnot\u001b[39;00m \u001b[39misinstance\u001b[39m(X, (KDTree, BallTree, NeighborsBase)):\n\u001b[1;32m--> <a href='file:///~/.virtualenvs/Machinelearning-Fabian-Andersson-w7oPBvBJ/lib/site-packages/sklearn/neighbors/_base.py?line=399'>400</a>\u001b[0m         X, y \u001b[39m=\u001b[39m \u001b[39mself\u001b[39;49m\u001b[39m.\u001b[39;49m_validate_data(X, y, accept_sparse\u001b[39m=\u001b[39;49m\u001b[39m\"\u001b[39;49m\u001b[39mcsr\u001b[39;49m\u001b[39m\"\u001b[39;49m, multi_output\u001b[39m=\u001b[39;49m\u001b[39mTrue\u001b[39;49;00m)\n\u001b[0;32m    <a href='file:///~/.virtualenvs/Machinelearning-Fabian-Andersson-w7oPBvBJ/lib/site-packages/sklearn/neighbors/_base.py?line=401'>402</a>\u001b[0m     \u001b[39mif\u001b[39;00m is_classifier(\u001b[39mself\u001b[39m):\n\u001b[0;32m    <a href='file:///~/.virtualenvs/Machinelearning-Fabian-Andersson-w7oPBvBJ/lib/site-packages/sklearn/neighbors/_base.py?line=402'>403</a>\u001b[0m         \u001b[39m# Classification targets require a specific format\u001b[39;00m\n\u001b[0;32m    <a href='file:///~/.virtualenvs/Machinelearning-Fabian-Andersson-w7oPBvBJ/lib/site-packages/sklearn/neighbors/_base.py?line=403'>404</a>\u001b[0m         \u001b[39mif\u001b[39;00m y\u001b[39m.\u001b[39mndim \u001b[39m==\u001b[39m \u001b[39m1\u001b[39m \u001b[39mor\u001b[39;00m y\u001b[39m.\u001b[39mndim \u001b[39m==\u001b[39m \u001b[39m2\u001b[39m \u001b[39mand\u001b[39;00m y\u001b[39m.\u001b[39mshape[\u001b[39m1\u001b[39m] \u001b[39m==\u001b[39m \u001b[39m1\u001b[39m:\n",
      "File \u001b[1;32m~\\.virtualenvs\\Machinelearning-Fabian-Andersson-w7oPBvBJ\\lib\\site-packages\\sklearn\\base.py:581\u001b[0m, in \u001b[0;36mBaseEstimator._validate_data\u001b[1;34m(self, X, y, reset, validate_separately, **check_params)\u001b[0m\n\u001b[0;32m    <a href='file:///~/.virtualenvs/Machinelearning-Fabian-Andersson-w7oPBvBJ/lib/site-packages/sklearn/base.py?line=578'>579</a>\u001b[0m         y \u001b[39m=\u001b[39m check_array(y, \u001b[39m*\u001b[39m\u001b[39m*\u001b[39mcheck_y_params)\n\u001b[0;32m    <a href='file:///~/.virtualenvs/Machinelearning-Fabian-Andersson-w7oPBvBJ/lib/site-packages/sklearn/base.py?line=579'>580</a>\u001b[0m     \u001b[39melse\u001b[39;00m:\n\u001b[1;32m--> <a href='file:///~/.virtualenvs/Machinelearning-Fabian-Andersson-w7oPBvBJ/lib/site-packages/sklearn/base.py?line=580'>581</a>\u001b[0m         X, y \u001b[39m=\u001b[39m check_X_y(X, y, \u001b[39m*\u001b[39m\u001b[39m*\u001b[39mcheck_params)\n\u001b[0;32m    <a href='file:///~/.virtualenvs/Machinelearning-Fabian-Andersson-w7oPBvBJ/lib/site-packages/sklearn/base.py?line=581'>582</a>\u001b[0m     out \u001b[39m=\u001b[39m X, y\n\u001b[0;32m    <a href='file:///~/.virtualenvs/Machinelearning-Fabian-Andersson-w7oPBvBJ/lib/site-packages/sklearn/base.py?line=583'>584</a>\u001b[0m \u001b[39mif\u001b[39;00m \u001b[39mnot\u001b[39;00m no_val_X \u001b[39mand\u001b[39;00m check_params\u001b[39m.\u001b[39mget(\u001b[39m\"\u001b[39m\u001b[39mensure_2d\u001b[39m\u001b[39m\"\u001b[39m, \u001b[39mTrue\u001b[39;00m):\n",
      "File \u001b[1;32m~\\.virtualenvs\\Machinelearning-Fabian-Andersson-w7oPBvBJ\\lib\\site-packages\\sklearn\\utils\\validation.py:981\u001b[0m, in \u001b[0;36mcheck_X_y\u001b[1;34m(X, y, accept_sparse, accept_large_sparse, dtype, order, copy, force_all_finite, ensure_2d, allow_nd, multi_output, ensure_min_samples, ensure_min_features, y_numeric, estimator)\u001b[0m\n\u001b[0;32m    <a href='file:///~/.virtualenvs/Machinelearning-Fabian-Andersson-w7oPBvBJ/lib/site-packages/sklearn/utils/validation.py?line=963'>964</a>\u001b[0m X \u001b[39m=\u001b[39m check_array(\n\u001b[0;32m    <a href='file:///~/.virtualenvs/Machinelearning-Fabian-Andersson-w7oPBvBJ/lib/site-packages/sklearn/utils/validation.py?line=964'>965</a>\u001b[0m     X,\n\u001b[0;32m    <a href='file:///~/.virtualenvs/Machinelearning-Fabian-Andersson-w7oPBvBJ/lib/site-packages/sklearn/utils/validation.py?line=965'>966</a>\u001b[0m     accept_sparse\u001b[39m=\u001b[39maccept_sparse,\n\u001b[1;32m   (...)\u001b[0m\n\u001b[0;32m    <a href='file:///~/.virtualenvs/Machinelearning-Fabian-Andersson-w7oPBvBJ/lib/site-packages/sklearn/utils/validation.py?line=975'>976</a>\u001b[0m     estimator\u001b[39m=\u001b[39mestimator,\n\u001b[0;32m    <a href='file:///~/.virtualenvs/Machinelearning-Fabian-Andersson-w7oPBvBJ/lib/site-packages/sklearn/utils/validation.py?line=976'>977</a>\u001b[0m )\n\u001b[0;32m    <a href='file:///~/.virtualenvs/Machinelearning-Fabian-Andersson-w7oPBvBJ/lib/site-packages/sklearn/utils/validation.py?line=978'>979</a>\u001b[0m y \u001b[39m=\u001b[39m _check_y(y, multi_output\u001b[39m=\u001b[39mmulti_output, y_numeric\u001b[39m=\u001b[39my_numeric)\n\u001b[1;32m--> <a href='file:///~/.virtualenvs/Machinelearning-Fabian-Andersson-w7oPBvBJ/lib/site-packages/sklearn/utils/validation.py?line=980'>981</a>\u001b[0m check_consistent_length(X, y)\n\u001b[0;32m    <a href='file:///~/.virtualenvs/Machinelearning-Fabian-Andersson-w7oPBvBJ/lib/site-packages/sklearn/utils/validation.py?line=982'>983</a>\u001b[0m \u001b[39mreturn\u001b[39;00m X, y\n",
      "File \u001b[1;32m~\\.virtualenvs\\Machinelearning-Fabian-Andersson-w7oPBvBJ\\lib\\site-packages\\sklearn\\utils\\validation.py:332\u001b[0m, in \u001b[0;36mcheck_consistent_length\u001b[1;34m(*arrays)\u001b[0m\n\u001b[0;32m    <a href='file:///~/.virtualenvs/Machinelearning-Fabian-Andersson-w7oPBvBJ/lib/site-packages/sklearn/utils/validation.py?line=329'>330</a>\u001b[0m uniques \u001b[39m=\u001b[39m np\u001b[39m.\u001b[39munique(lengths)\n\u001b[0;32m    <a href='file:///~/.virtualenvs/Machinelearning-Fabian-Andersson-w7oPBvBJ/lib/site-packages/sklearn/utils/validation.py?line=330'>331</a>\u001b[0m \u001b[39mif\u001b[39;00m \u001b[39mlen\u001b[39m(uniques) \u001b[39m>\u001b[39m \u001b[39m1\u001b[39m:\n\u001b[1;32m--> <a href='file:///~/.virtualenvs/Machinelearning-Fabian-Andersson-w7oPBvBJ/lib/site-packages/sklearn/utils/validation.py?line=331'>332</a>\u001b[0m     \u001b[39mraise\u001b[39;00m \u001b[39mValueError\u001b[39;00m(\n\u001b[0;32m    <a href='file:///~/.virtualenvs/Machinelearning-Fabian-Andersson-w7oPBvBJ/lib/site-packages/sklearn/utils/validation.py?line=332'>333</a>\u001b[0m         \u001b[39m\"\u001b[39m\u001b[39mFound input variables with inconsistent numbers of samples: \u001b[39m\u001b[39m%r\u001b[39;00m\u001b[39m\"\u001b[39m\n\u001b[0;32m    <a href='file:///~/.virtualenvs/Machinelearning-Fabian-Andersson-w7oPBvBJ/lib/site-packages/sklearn/utils/validation.py?line=333'>334</a>\u001b[0m         \u001b[39m%\u001b[39m [\u001b[39mint\u001b[39m(l) \u001b[39mfor\u001b[39;00m l \u001b[39min\u001b[39;00m lengths]\n\u001b[0;32m    <a href='file:///~/.virtualenvs/Machinelearning-Fabian-Andersson-w7oPBvBJ/lib/site-packages/sklearn/utils/validation.py?line=334'>335</a>\u001b[0m     )\n",
      "\u001b[1;31mValueError\u001b[0m: Found input variables with inconsistent numbers of samples: [60000, 50400]"
     ]
    }
   ],
   "source": [
    "from sklearn.neighbors import KNeighborsClassifier\n",
    "from sklearn.metrics import accuracy_score\n",
    "\n",
    "error_list = []\n",
    "\n",
    "for k in range(1, 10):\n",
    "    model_KNN = KNeighborsClassifier(n_neighbors=k)\n",
    "    model_KNN.fit(X_train_2, y_train)\n",
    "    y_pred = model_KNN.predict(X_train_2)\n",
    "    accuracy = accuracy_score(y_pred, y_test)"
   ]
  }
 ],
 "metadata": {
  "interpreter": {
   "hash": "74522788009941975a4274ce688126e1a7bad11a56dd47c92f86889bb9d598be"
  },
  "kernelspec": {
   "display_name": "Python 3.9.6 ('Machinelearning-Fabian-Andersson-w7oPBvBJ')",
   "language": "python",
   "name": "python3"
  },
  "language_info": {
   "codemirror_mode": {
    "name": "ipython",
    "version": 3
   },
   "file_extension": ".py",
   "mimetype": "text/x-python",
   "name": "python",
   "nbconvert_exporter": "python",
   "pygments_lexer": "ipython3",
   "version": "3.9.6"
  },
  "orig_nbformat": 4
 },
 "nbformat": 4,
 "nbformat_minor": 2
}
